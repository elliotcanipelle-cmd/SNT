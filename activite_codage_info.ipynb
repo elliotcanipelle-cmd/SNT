{
  "cells": [
    {
      "cell_type": "markdown",
      "metadata": {},
      "source": [
        "# Activité : Codage de l'information en binaire avec Python\n",
        "\n",
        "## Objectifs\n",
        "- Comprendre comment coder un nombre, un caractère ou une image en binaire.\n",
        "- Écrire de petits programmes Python pour convertir et afficher.\n",
        "- Découvrir comment une image numérique est en réalité un tableau de nombres."
      ]
    },
    {
      "cell_type": "markdown",
      "metadata": {},
      "source": [
        "## Partie 1 – Les nombres en binaire\n",
        "\n",
        "En binaire, on utilise seulement les chiffres `0` et `1`. Exemple :\n",
        "\n",
        "$$ 5_{10} = 0101_{2}, \\quad 10_{10} = 1010_{2} $$\n",
        "\n",
        "**Programme exemple : afficher les nombres de 0 à 15 en binaire (sur 4 bits)**"
      ]
    },
    {
      "cell_type": "code",
      "execution_count": null,
      "metadata": {},
      "outputs": [],
      "source": [
        "for n in range(16):\n",
        "    print(n, \"->\", format(n, \"04b\"))"
      ]
    },
    {
      "cell_type": "markdown",
      "metadata": {},
      "source": [
        "### Aide\n",
        "- `range(a,b)` : génère une suite de nombres de `a` à `b-1`. Exemple : `range(3,7)` donne 3,4,5,6.\n",
        "- `print(...)` : affiche une ou plusieurs valeurs à l’écran. Exemple : `print(\"Bonjour\")` affiche `Bonjour`.\n",
        "- `format(x,\"04b\")` : convertit le nombre `x` en binaire sur 4 bits. Exemple : `format(5,\"04b\")` donne `0101`."
      ]
    },
    {
      "cell_type": "markdown",
      "metadata": {},
      "source": [
        "### Travail demandé\n",
        "- Modifier le programme pour afficher les nombres de 0 à 31.\n",
        "- Écrire un programme qui convertit un nombre **binaire** en **décimal**.\n",
        "  Exemple :\n",
        "  ```\n",
        "  Entrez un nombre binaire : 1011\n",
        "  En décimal : 11\n",
        "  ```"
      ]
    },
    {
      "cell_type": "code",
      "execution_count": null,
      "metadata": {},
      "outputs": [],
      "source": [
        "# A compléter : conversion binaire -> décimal\n",
        "binaire = input(\"Entrez un nombre binaire : \")\n",
        "decimal = int(binaire, 2)\n",
        "print(\"En décimal :\", decimal)"
      ]
    },
    {
      "cell_type": "markdown",
      "metadata": {},
      "source": [
        "### Aide\n",
        "- `input(\"Texte\")` : demande une saisie à l’utilisateur. Exemple : `nom = input(\"Votre nom : \")`.\n",
        "- `int(chaine,2)` : convertit une chaîne binaire en entier décimal. Exemple : `int(\"1011\",2)` donne 11."
      ]
    },
    {
      "cell_type": "markdown",
      "metadata": {},
      "source": [
        "## Partie 2 – Le codage des caractères\n",
        "\n",
        "Chaque caractère est associé à un nombre (code ASCII). Exemple :\n",
        "\n",
        "$$ A \\to 65 \\to 01000001, \\quad B \\to 66 \\to 01000010 $$\n",
        "\n",
        "**Programme exemple : afficher les codes binaires d’un mot**"
      ]
    },
    {
      "cell_type": "code",
      "execution_count": null,
      "metadata": {},
      "outputs": [],
      "source": [
        "texte = \"HELLO\"\n",
        "for c in texte:\n",
        "    code = ord(c)\n",
        "    binaire = format(code, \"08b\")\n",
        "    print(c, \"->\", code, \"->\", binaire)"
      ]
    },
    {
      "cell_type": "markdown",
      "metadata": {},
      "source": [
        "### Aide\n",
        "- `for c in texte` : parcourt chaque caractère de la chaîne `texte`.\n",
        "  Exemple : si `texte = \"AB\"`, alors `c` vaut successivement `\"A\"`, puis `\"B\"`.\n",
        "- `ord(caractere)` : renvoie le code ASCII du caractère. Exemple : `ord(\"A\")` donne 65.\n",
        "- `chr(nombre)` : renvoie le caractère correspondant au code ASCII. Exemple : `chr(66)` donne `\"B\"`."
      ]
    },
    {
      "cell_type": "markdown",
      "metadata": {},
      "source": [
        "### Travail demandé\n",
        "- Trouver le code binaire de la lettre `C`.\n",
        "- Modifier le programme pour que l’utilisateur saisisse une lettre et que le programme affiche son code binaire.\n",
        "- Écrire le programme inverse : demander un code binaire et afficher le caractère correspondant."
      ]
    },
    {
      "cell_type": "code",
      "execution_count": null,
      "metadata": {},
      "outputs": [],
      "source": [
        "# Exemple : lettre -> binaire\n",
        "lettre = input(\"Entrez une lettre : \")\n",
        "code = ord(lettre)\n",
        "binaire = format(code, \"08b\")\n",
        "print(\"Code ASCII :\", code, \"Binaire :\", binaire)"
      ]
    },
    {
      "cell_type": "code",
      "execution_count": null,
      "metadata": {},
      "outputs": [],
      "source": [
        "# Exemple : binaire -> lettre\n",
        "binaire = input(\"Entrez un code binaire : \")\n",
        "code = int(binaire, 2)\n",
        "caractere = chr(code)\n",
        "print(\"Caractère correspondant :\", caractere)"
      ]
    },
    {
      "cell_type": "markdown",
      "metadata": {},
      "source": [
        "## Partie 3 – Une image en binaire\n",
        "\n",
        "Une image numérique est constituée de pixels. En noir et blanc :\n",
        "\n",
        "$$ 0 = blanc, \\quad 1 = noir $$\n",
        "\n",
        "**Exemple : une image 5x5 représentant un cœur**"
      ]
    },
    {
      "cell_type": "code",
      "execution_count": null,
      "metadata": {},
      "outputs": [],
      "source": [
        "import matplotlib.pyplot as plt\n",
        "\n",
        "image = [\n",
        "    [0,1,0,1,0],\n",
        "    [1,1,1,1,1],\n",
        "    [1,1,1,1,1],\n",
        "    [0,1,1,1,0],\n",
        "    [0,0,1,0,0]\n",
        "]\n",
        "\n",
        "plt.imshow(image, cmap=\"gray_r\")\n",
        "plt.axis(\"off\")\n",
        "plt.show()"
      ]
    },
    {
      "cell_type": "markdown",
      "metadata": {},
      "source": [
        "### Aide\n",
        "- `import ...` : permet d’utiliser une bibliothèque externe. Exemple : `import math`.\n",
        "- `matplotlib.pyplot` : bibliothèque qui permet de tracer des graphiques ou afficher des images.\n",
        "- `plt.imshow(tableau, cmap=\"gray_r\")` : affiche un tableau de 0 et 1 comme une image en noir/blanc.\n",
        "  Exemple : `plt.imshow([[0,1],[1,0]], cmap=\"gray_r\")`.\n",
        "- `plt.axis(\"off\")` : supprime les axes de l’image.\n",
        "- `plt.show()` : affiche l’image."
      ]
    },
    {
      "cell_type": "markdown",
      "metadata": {},
      "source": [
        "### Travail demandé\n",
        "- Créez une nouvelle image en binaire représentant une lettre de l’alphabet (ex: `L` ou `T`) sur une grille 5x5.\n",
        "- Testez avec `plt.imshow(...)` pour afficher votre image.\n",
        "- Réfléchissez : que faudrait-il modifier pour avoir plus de détails ?"
      ]
    },
    {
      "cell_type": "code",
      "execution_count": null,
      "metadata": {},
      "outputs": [],
      "source": [
        "# Exemple : Lettre L en 5x5\n",
        "L = [\n",
        "    [1,0,0,0,0],\n",
        "    [1,0,0,0,0],\n",
        "    [1,0,0,0,0],\n",
        "    [1,0,0,0,0],\n",
        "    [1,1,1,1,1]\n",
        "]\n",
        "\n",
        "plt.imshow(L, cmap=\"gray_r\")\n",
        "plt.axis(\"off\")\n",
        "plt.show()"
      ]
    }
  ],
  "metadata": {
    "kernelspec": {
      "display_name": "Python 3",
      "language": "python",
      "name": "python3"
    },
    "language_info": {
      "name": "python",
      "version": "3.x"
    }
  },
  "nbformat": 4,
  "nbformat_minor": 2
}