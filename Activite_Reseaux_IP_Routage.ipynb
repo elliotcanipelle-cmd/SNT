{
 "cells": [
  {
   "cell_type": "markdown",
   "metadata": {},
   "source": [
    "# 🌐 Activité Réseaux – Protocole IP et Routage\n",
    "\n",
    "Ce notebook va te permettre de découvrir le fonctionnement du protocole IP et du routage à travers quelques manipulations simples.\n",
    "\n",
    "## Objectifs\n",
    "- Identifier son adresse IP et sa passerelle.\n",
    "- Utiliser `ping` pour tester la connectivité.\n",
    "- Utiliser `traceroute` pour observer le chemin parcouru par les paquets.\n",
    "- Comprendre le rôle du routage.\n"
   ]
  },
  {
   "cell_type": "markdown",
   "metadata": {},
   "source": [
    "## 1. Identifier les paramètres réseau\n",
    "\n",
    "Chaque machine connectée à un réseau possède une **adresse IP**. Elle est souvent accompagnée :\n",
    "- d'un **masque de sous-réseau**,\n",
    "- d'une **passerelle par défaut** (le routeur qui fait le lien avec Internet),\n",
    "- d'un ou plusieurs **serveurs DNS**.\n",
    "\n",
    "Exécutons une commande pour afficher les informations réseau de ta machine."
   ]
  },
  {
   "cell_type": "code",
   "execution_count": null,
   "metadata": {},
   "outputs": [],
   "source": [
    "import subprocess\n",
    "import platform\n",
    "\n",
    "cmd = \"ipconfig\" if platform.system() == \"Windows\" else \"ifconfig\"\n",
    "result = subprocess.run(cmd, shell=True, capture_output=True, text=True)\n",
    "print(result.stdout)"
   ]
  },
  {
   "cell_type": "markdown",
   "metadata": {},
   "source": [
    "👉 Note dans la cellule ci-dessous :\n",
    "- Ton **adresse IP locale**\n",
    "- L'adresse de ta **passerelle**"
   ]
  },
  {
   "cell_type": "markdown",
   "metadata": {},
   "source": [
    "## 2. Tester la connectivité avec `ping`\n",
    "\n",
    "La commande `ping` envoie un petit message (ICMP) à une machine pour vérifier si elle répond.\n",
    "\n",
    "Nous allons tester plusieurs destinations :\n",
    "- `127.0.0.1` (boucle locale)\n",
    "- la passerelle de ton réseau (souvent 192.168.1.1 ou 192.168.0.1)\n",
    "- une adresse publique (ex: `8.8.8.8`)\n",
    "- un site web (ex: `www.wikipedia.org`)\n"
   ]
  },
  {
   "cell_type": "code",
   "execution_count": null,
   "metadata": {},
   "outputs": [],
   "source": [
    "destinations = [\"127.0.0.1\", \"8.8.8.8\", \"www.wikipedia.org\"]\n",
    "for dest in destinations:\n",
    "    print(f\"\\n=== Ping vers {dest} ===\")\n",
    "    cmd = (\"ping -n 4 \" if platform.system() == \"Windows\" else \"ping -c 4 \") + dest\n",
    "    result = subprocess.run(cmd, shell=True, capture_output=True, text=True)\n",
    "    print(result.stdout)"
   ]
  },
  {
   "cell_type": "markdown",
   "metadata": {},
   "source": [
    "👉 Compare les temps de réponse observés. Que remarques-tu entre la boucle locale, la passerelle et un site distant ?"
   ]
  },
  {
   "cell_type": "markdown",
   "metadata": {},
   "source": [
    "## 3. Observer le chemin avec `traceroute`\n",
    "\n",
    "Un paquet n’arrive pas directement à destination : il passe par plusieurs **routeurs**. La commande `traceroute` (ou `tracert` sous Windows) permet d’afficher ce chemin.\n",
    "\n",
    "Exécutons un `traceroute` vers un site connu."
   ]
  },
  {
   "cell_type": "code",
   "execution_count": null,
   "metadata": {},
   "outputs": [],
   "source": [
    "dest = \"www.wikipedia.org\"\n",
    "cmd = \"tracert \" + dest if platform.system() == \"Windows\" else \"traceroute \" + dest\n",
    "result = subprocess.run(cmd, shell=True, capture_output=True, text=True)\n",
    "print(result.stdout)"
   ]
  },
  {
   "cell_type": "markdown",
   "metadata": {},
   "source": [
    "👉 Note le nombre d’étapes nécessaires pour atteindre le site.\n",
    "Chaque étape correspond à un routeur traversé."
   ]
  },
  {
   "cell_type": "markdown",
   "metadata": {},
   "source": [
    "## 4. Lien avec la théorie\n",
    "\n",
    "- Le protocole **IP** permet d’acheminer les paquets de proche en proche.\n",
    "- Le **TTL** (Time To Live) limite le nombre de sauts.\n",
    "- Le **routage** choisit le chemin en fonction des tables des routeurs.\n"
   ]
  },
  {
   "cell_type": "markdown",
   "metadata": {},
   "source": [
    "## 5. Défi\n",
    "\n",
    "🔎 Modifie la liste des destinations testées avec `ping`.\n",
    "- Ajoute d’autres sites web.\n",
    "- Compare les temps de réponse entre plusieurs destinations.\n",
    "- Explique pourquoi certains sites peuvent **ne pas répondre** au ping."
   ]
  },
  {
   "cell_type": "markdown",
   "metadata": {},
   "source": [
    "## 6. Conclusion\n",
    "\n",
    "Dans cette activité, tu as appris à :\n",
    "- Identifier ton adresse IP et ta passerelle.\n",
    "- Vérifier la connectivité avec `ping`.\n",
    "- Observer le chemin des paquets avec `traceroute`.\n",
    "- Relier ces observations à la théorie du protocole IP et du routage.\n"
   ]
  }
 ],
 "metadata": {
  "kernelspec": {
   "display_name": "Python 3",
   "language": "python",
   "name": "python3"
  },
  "language_info": {
   "name": "python",
   "version": "3.10"
  }
 },
 "nbformat": 4,
 "nbformat_minor": 2
}